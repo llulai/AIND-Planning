{
 "cells": [
  {
   "cell_type": "code",
   "execution_count": 32,
   "metadata": {
    "collapsed": true,
    "deletable": true,
    "editable": true
   },
   "outputs": [],
   "source": [
    "from aimacode.utils import Expr\n",
    "from aimacode.logic import PropKB\n",
    "from aimacode.search import Problem, breadth_first_search, InstrumentedProblem, Node, breadth_first_tree_search\n",
    "from aimacode.planning import Action\n",
    "from copy import deepcopy\n",
    "from timeit import default_timer as timer"
   ]
  },
  {
   "cell_type": "code",
   "execution_count": 25,
   "metadata": {
    "collapsed": false,
    "deletable": true,
    "editable": true
   },
   "outputs": [],
   "source": [
    "class AirCargoProblem(Problem):\n",
    "    def __init__(self, initial, goal, airports, cargos, planes):\n",
    "        Problem.__init__(self, initial, goal)\n",
    "        self.actions_list = self.__get_actions(airports, cargos, planes)\n",
    "    \n",
    "    def __get_actions(self, airports, cargos, planes):\n",
    "        \"\"\"\n",
    "        This method creates concrete actions (no variables) for all actions in the problem\n",
    "        domain action schema and turns them into complete Action objects as defined in the\n",
    "        aimacode.planning module. It is computationally expensive to call this method directly;\n",
    "        however, it is called in the constructor and the results cached in the `actions_list` property.\n",
    "\n",
    "        Returns:\n",
    "        ----------\n",
    "        list<Action>\n",
    "            list of Action objects\n",
    "        \"\"\"\n",
    "\n",
    "        # concrete actions definition: specific literal action that does not include variables as with the schema\n",
    "        # for example, the action schema 'Load(c, p, a)' can represent the concrete actions 'Load(C1, P1, SFO)'\n",
    "        # or 'Load(C2, P2, JFK)'.  The actions for the planning problem must be concrete because the problems in\n",
    "        # forward search and Planning Graphs must use Propositional Logic\n",
    "\n",
    "        def load_actions():\n",
    "            \"\"\"Create all concrete Load actions and return a list\n",
    "\n",
    "            :return: list of Action objects\n",
    "            \"\"\"\n",
    "            loads = []\n",
    "            for cargo in cargos:\n",
    "                for plane in planes:\n",
    "                    for airport in airports:\n",
    "                        precond_pos = [Expr('At({}, {})'.format(cargo, airport)),\n",
    "                                       Expr('At({}, {})'.format(plane, airport))]\n",
    "                        precond_neg = []\n",
    "                        effect_add = [Expr('In({}, {})'.format(cargo, plane))]\n",
    "                        effect_rem = [Expr('At({}, {})'.format(cargo, airport))]\n",
    "                        load = Action(Expr('Load({}, {}, {})'.format(cargo, plane, airport)),\n",
    "                                      [precond_pos, precond_neg],\n",
    "                                      [effect_add, effect_rem])\n",
    "\n",
    "                        loads.append(load)\n",
    "            return loads\n",
    "\n",
    "        def unload_actions():\n",
    "            \"\"\"Create all concrete Unload actions and return a list\n",
    "\n",
    "            :return: list of Action objects\n",
    "            \"\"\"\n",
    "            unloads = []\n",
    "            for cargo in cargos:\n",
    "                for plane in planes:\n",
    "                    for airport in airports:\n",
    "                        precond_pos = [Expr('At({}, {})'.format(plane, airport)),\n",
    "                                       Expr('In({}, {})'.format(cargo, plane))]\n",
    "                        precond_neg = []\n",
    "                        effect_add = [Expr('At({}, {})'.format(cargo, airport))]\n",
    "                        effect_rem = [Expr('In({}, {})'.format(cargo, plane))]\n",
    "                        unload = Action(Expr('Unload({}, {}, {})'.format(cargo, plane, airport)),\n",
    "                                      [precond_pos, precond_neg],\n",
    "                                      [effect_add, effect_rem])\n",
    "\n",
    "                        unloads.append(unload)\n",
    "            return unloads\n",
    "\n",
    "        def fly_actions():\n",
    "            \"\"\"Create all concrete Fly actions and return a list\n",
    "\n",
    "            :return: list of Action objects\n",
    "            \"\"\"\n",
    "            flys = []\n",
    "            for fr in airports:\n",
    "                for to in airports:\n",
    "                    if fr != to:\n",
    "                        for p in planes:\n",
    "                            precond_pos = [Expr(\"At({}, {})\".format(p, fr)),\n",
    "                                           ]\n",
    "                            precond_neg = []\n",
    "                            effect_add = [Expr(\"At({}, {})\".format(p, to))]\n",
    "                            effect_rem = [Expr(\"At({}, {})\".format(p, fr))]\n",
    "                            fly = Action(Expr(\"Fly({}, {}, {})\".format(p, fr, to)),\n",
    "                                         [precond_pos, precond_neg],\n",
    "                                         [effect_add, effect_rem])\n",
    "                            flys.append(fly)\n",
    "            return flys\n",
    "\n",
    "        return load_actions() + unload_actions() + fly_actions()\n",
    "    \n",
    "    def actions(self, state):\n",
    "        return [action for action in self.actions_list if action.check_precond(state, [])]\n",
    "            \n",
    "    \n",
    "    def result(self, state, action):\n",
    "        new_state = deepcopy(state)\n",
    "        [new_state.tell(eff) for eff in action.effect_add]\n",
    "        [new_state.retract(eff) for eff in action.effect_rem]\n",
    "        \n",
    "        return new_state\n",
    "    \n",
    "    def goal_test(self, state):\n",
    "        return all([state.ask_if_true(clause) for clause in self.goal.clauses])"
   ]
  },
  {
   "cell_type": "code",
   "execution_count": 26,
   "metadata": {
    "collapsed": true
   },
   "outputs": [],
   "source": [
    "def air_cargo_p1() -> AirCargoProblem:\n",
    "    cargos = ['C1', 'C2']\n",
    "    planes = ['P1', 'P2']\n",
    "    airports = ['JFK', 'SFO']\n",
    "    pos = [Expr('At(C1, SFO)'),\n",
    "           Expr('At(C2, JFK)'),\n",
    "           Expr('At(P1, SFO)'),\n",
    "           Expr('At(P2, JFK)'),\n",
    "           ]\n",
    "    init = PropKB()\n",
    "    for p in pos:\n",
    "        init.tell(p)\n",
    "    goal = PropKB()\n",
    "    for g in [Expr('At(C1, JFK)'),\n",
    "            Expr('At(C2, SFO)'),\n",
    "            ]:\n",
    "        goal.tell(g)\n",
    "    return AirCargoProblem(init, goal, airports, cargos, planes)"
   ]
  },
  {
   "cell_type": "code",
   "execution_count": 27,
   "metadata": {
    "collapsed": false
   },
   "outputs": [],
   "source": [
    "problem = air_cargo_p1()"
   ]
  },
  {
   "cell_type": "code",
   "execution_count": 30,
   "metadata": {
    "collapsed": true
   },
   "outputs": [],
   "source": [
    "def run_search(problem, search_function, parameter=None):\n",
    "\n",
    "    start = timer()\n",
    "    ip = PrintableProblem(problem)\n",
    "    if parameter is not None:\n",
    "        node = search_function(ip, parameter)\n",
    "    else:\n",
    "        node = search_function(ip)\n",
    "    end = timer()\n",
    "    print(\"\\nExpansions   Goal Tests   New Nodes\")\n",
    "    print(\"{}\\n\".format(ip))\n",
    "    show_solution(node, end - start)\n",
    "    print()\n",
    "\n",
    "class PrintableProblem(InstrumentedProblem):\n",
    "    \"\"\" InstrumentedProblem keeps track of stats during search, and this\n",
    "    class modifies the print output of those statistics for air cargo\n",
    "    problems.\n",
    "    \"\"\"\n",
    "\n",
    "    def __repr__(self):\n",
    "        return '{:^10d}  {:^10d}  {:^10d}'.format(self.succs, self.goal_tests, self.states)\n",
    "\n",
    "def show_solution(node, elapsed_time):\n",
    "    print(\"Plan length: {}  Time elapsed in seconds: {}\".format(len(node.solution()), elapsed_time))\n",
    "    for action in node.solution():\n",
    "        print(\"{}{}\".format(action.name, action.args))"
   ]
  },
  {
   "cell_type": "code",
   "execution_count": 33,
   "metadata": {
    "collapsed": false
   },
   "outputs": [
    {
     "name": "stdout",
     "output_type": "stream",
     "text": [
      "\n",
      "Expansions   Goal Tests   New Nodes\n",
      "   1458        1459        5960   \n",
      "\n",
      "Plan length: 6  Time elapsed in seconds: 1.8974041059991578\n",
      "Load(C1, P1, SFO)()\n",
      "Load(C2, P2, JFK)()\n",
      "Fly(P2, JFK, SFO)()\n",
      "Unload(C2, P2, SFO)()\n",
      "Fly(P1, SFO, JFK)()\n",
      "Unload(C1, P1, JFK)()\n",
      "\n"
     ]
    }
   ],
   "source": [
    "run_search(problem, breadth_first_tree_search)"
   ]
  },
  {
   "cell_type": "code",
   "execution_count": 53,
   "metadata": {
    "collapsed": false
   },
   "outputs": [],
   "source": [
    "node = Node(problem.initial)"
   ]
  },
  {
   "cell_type": "code",
   "execution_count": 55,
   "metadata": {
    "collapsed": false
   },
   "outputs": [],
   "source": [
    "nodes = node.expand(problem)"
   ]
  },
  {
   "cell_type": "code",
   "execution_count": 62,
   "metadata": {
    "collapsed": false
   },
   "outputs": [
    {
     "name": "stdout",
     "output_type": "stream",
     "text": [
      "At(C1, SFO)\n",
      "At(C2, JFK)\n",
      "At(P1, SFO)\n",
      "At(P2, JFK)\n"
     ]
    }
   ],
   "source": [
    "for clause in problem.initial.clauses:\n",
    "    print(clause.op)"
   ]
  },
  {
   "cell_type": "code",
   "execution_count": 71,
   "metadata": {
    "collapsed": false
   },
   "outputs": [
    {
     "name": "stdout",
     "output_type": "stream",
     "text": [
      "Fly(P1, SFO, JFK)\n",
      "At(C1, SFO)\n",
      "At(C2, JFK)\n",
      "At(P2, JFK)\n",
      "At(P1, JFK)\n"
     ]
    }
   ],
   "source": [
    "an= 3\n",
    "print(problem.actions(problem.initial)[an].name)\n",
    "\n",
    "for clause in problem.result(problem.initial, problem.actions(problem.initial)[an]).clauses:\n",
    "    print(clause.op)"
   ]
  },
  {
   "cell_type": "code",
   "execution_count": 73,
   "metadata": {
    "collapsed": false
   },
   "outputs": [
    {
     "name": "stdout",
     "output_type": "stream",
     "text": [
      "At(C2, JFK)\n",
      "At(P1, SFO)\n",
      "At(P2, JFK)\n",
      "In(C1, P1)\n",
      "\n",
      "At(C1, SFO)\n",
      "At(P1, SFO)\n",
      "At(P2, JFK)\n",
      "In(C2, P2)\n",
      "\n",
      "At(C1, SFO)\n",
      "At(C2, JFK)\n",
      "At(P1, SFO)\n",
      "At(P2, SFO)\n",
      "\n",
      "At(C1, SFO)\n",
      "At(C2, JFK)\n",
      "At(P2, JFK)\n",
      "At(P1, JFK)\n",
      "\n"
     ]
    }
   ],
   "source": [
    "for n in nodes:\n",
    "    for clause in n.state.clauses:\n",
    "        print(clause.op)\n",
    "    print()"
   ]
  },
  {
   "cell_type": "code",
   "execution_count": 75,
   "metadata": {
    "collapsed": false
   },
   "outputs": [
    {
     "data": {
      "text/plain": [
       "False"
      ]
     },
     "execution_count": 75,
     "metadata": {},
     "output_type": "execute_result"
    }
   ],
   "source": [
    "problem.goal_test(FolKB([Expr('At(C1, JFK)'),\n",
    "            Expr('At(C2, SFO)'),\n",
    "            ]))"
   ]
  },
  {
   "cell_type": "code",
   "execution_count": 11,
   "metadata": {
    "collapsed": true
   },
   "outputs": [],
   "source": [
    "def tst() -> AirCargoProblem:\n",
    "    cargos = ['C1', 'C2']\n",
    "    planes = ['P1', 'P2']\n",
    "    airports = ['JFK', 'SFO']\n",
    "    init = PropKB()\n",
    "    for i in [Expr('At(C1, JFK)'),\n",
    "            Expr('At(C2, SFO)'),\n",
    "            ]:\n",
    "        init.tell(i)\n",
    "    goal = PropKB()\n",
    "    for g in [Expr('At(C1, JFK)'),\n",
    "            Expr('At(C2, SFO)'),\n",
    "            ]:\n",
    "        goal.tell(g)\n",
    "    return AirCargoProblem(init, goal, airports, cargos, planes)"
   ]
  },
  {
   "cell_type": "code",
   "execution_count": 12,
   "metadata": {
    "collapsed": true
   },
   "outputs": [],
   "source": [
    "ptest = tst()"
   ]
  },
  {
   "cell_type": "code",
   "execution_count": 17,
   "metadata": {
    "collapsed": false
   },
   "outputs": [],
   "source": [
    "#ptest.goal_test(ptest.goal)"
   ]
  },
  {
   "cell_type": "code",
   "execution_count": 14,
   "metadata": {
    "collapsed": false
   },
   "outputs": [
    {
     "name": "stdout",
     "output_type": "stream",
     "text": [
      "At(C1, JFK)\n",
      "At(C2, SFO)\n"
     ]
    }
   ],
   "source": [
    "for clause in ptest.initial.clauses:\n",
    "    print(clause.op)"
   ]
  },
  {
   "cell_type": "code",
   "execution_count": 19,
   "metadata": {
    "collapsed": false
   },
   "outputs": [
    {
     "data": {
      "text/plain": [
       "True"
      ]
     },
     "execution_count": 19,
     "metadata": {},
     "output_type": "execute_result"
    }
   ],
   "source": [
    "ptest.initial.ask_if_true(Expr('At(C1, JFK)'))"
   ]
  },
  {
   "cell_type": "code",
   "execution_count": 92,
   "metadata": {
    "collapsed": true
   },
   "outputs": [],
   "source": [
    "from aimacode.logic import fol_bc_ask"
   ]
  },
  {
   "cell_type": "code",
   "execution_count": null,
   "metadata": {
    "collapsed": true
   },
   "outputs": [],
   "source": []
  }
 ],
 "metadata": {
  "kernelspec": {
   "display_name": "Python 3",
   "language": "python",
   "name": "python3"
  },
  "language_info": {
   "codemirror_mode": {
    "name": "ipython",
    "version": 3
   },
   "file_extension": ".py",
   "mimetype": "text/x-python",
   "name": "python",
   "nbconvert_exporter": "python",
   "pygments_lexer": "ipython3",
   "version": "3.6.0"
  }
 },
 "nbformat": 4,
 "nbformat_minor": 2
}
